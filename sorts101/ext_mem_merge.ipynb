version https://git-lfs.github.com/spec/v1
oid sha256:c7aaa5ee7f42ed93bfb3a0ce2c60b5108ce2480e9ef369d17425ac2bd30dd87e
size 6149
