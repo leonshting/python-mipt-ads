{
 "cells": [
  {
   "cell_type": "code",
   "execution_count": 3,
   "metadata": {},
   "outputs": [],
   "source": [
    "import string\n",
    "import tqdm\n",
    "import os\n",
    "import shutil\n",
    "import numpy as np\n",
    "\n",
    "import sys\n",
    "sys.path.insert(0, '.')\n",
    "\n",
    "from ext_mem_merge import generate_big_file, sort_big_file\n",
    "import ext_mem_merge"
   ]
  },
  {
   "cell_type": "code",
   "execution_count": 4,
   "metadata": {},
   "outputs": [],
   "source": [
    "ext_mem_merge.CHUNK_SIZE = 10000\n",
    "ext_mem_merge.BLOCK_SIZE = 1000"
   ]
  },
  {
   "cell_type": "code",
   "execution_count": 5,
   "metadata": {},
   "outputs": [
    {
     "name": "stderr",
     "output_type": "stream",
     "text": [
      "100%|██████████| 101/101 [00:00<00:00, 259.85it/s]\n"
     ]
    }
   ],
   "source": [
    "generate_big_file('big_one.txt', string_len=100, num_lines=10000)"
   ]
  },
  {
   "cell_type": "code",
   "execution_count": 6,
   "metadata": {},
   "outputs": [
    {
     "name": "stdout",
     "output_type": "stream",
     "text": [
      "merging blocks (0, 1) on step 1\n",
      "merging blocks (2, 3) on step 1\n",
      "merging blocks (4, 5) on step 1\n",
      "merging blocks (6, 7) on step 1\n",
      "merging blocks (8, 9) on step 1\n",
      "merging blocks (10, 11) on step 1\n",
      "merging blocks (12, 13) on step 1\n",
      "merging blocks (14, 15) on step 1\n",
      "merging blocks (16, 17) on step 1\n",
      "merging blocks (18, 19) on step 1\n",
      "merging blocks (20, 21) on step 1\n",
      "merging blocks (22, 23) on step 1\n",
      "merging blocks (24, 25) on step 1\n",
      "merging blocks (26, 27) on step 1\n",
      "merging blocks (28, 29) on step 1\n",
      "merging blocks (30, 31) on step 1\n",
      "merging blocks (32, 33) on step 1\n",
      "merging blocks (34, 35) on step 1\n",
      "merging blocks (36, 37) on step 1\n",
      "merging blocks (38, 39) on step 1\n",
      "merging blocks (40, 41) on step 1\n",
      "merging blocks (42, 43) on step 1\n",
      "merging blocks (44, 45) on step 1\n",
      "merging blocks (46, 47) on step 1\n",
      "merging blocks (48, 49) on step 1\n",
      "merging blocks (50, 51) on step 1\n",
      "merging blocks (52, 53) on step 1\n",
      "merging blocks (54, 55) on step 1\n",
      "merging blocks (56, 57) on step 1\n",
      "merging blocks (58, 59) on step 1\n",
      "merging blocks (60, 61) on step 1\n",
      "merging blocks (62, 63) on step 1\n",
      "merging blocks (64, 65) on step 1\n",
      "merging blocks (66, 67) on step 1\n",
      "merging blocks (68, 69) on step 1\n",
      "merging blocks (70, 71) on step 1\n",
      "merging blocks (72, 73) on step 1\n",
      "merging blocks (74, 75) on step 1\n",
      "merging blocks (76, 77) on step 1\n",
      "merging blocks (78, 79) on step 1\n",
      "merging blocks (80, 81) on step 1\n",
      "merging blocks (82, 83) on step 1\n",
      "merging blocks (84, 85) on step 1\n",
      "merging blocks (86, 87) on step 1\n",
      "merging blocks (88, 89) on step 1\n",
      "merging blocks (90, 91) on step 1\n",
      "merging blocks (92, 93) on step 1\n",
      "merging blocks (94, 95) on step 1\n",
      "merging blocks (96, 97) on step 1\n",
      "merging blocks (98, 99) on step 1\n",
      "merging blocks (0, 1) on step 2\n",
      "merging blocks (2, 3) on step 2\n",
      "merging blocks (4, 5) on step 2\n",
      "merging blocks (6, 7) on step 2\n",
      "merging blocks (8, 9) on step 2\n",
      "merging blocks (10, 11) on step 2\n",
      "merging blocks (12, 13) on step 2\n",
      "merging blocks (14, 15) on step 2\n",
      "merging blocks (16, 17) on step 2\n",
      "merging blocks (18, 19) on step 2\n",
      "merging blocks (20, 21) on step 2\n",
      "merging blocks (22, 23) on step 2\n",
      "merging blocks (24, 25) on step 2\n",
      "merging blocks (26, 27) on step 2\n",
      "merging blocks (28, 29) on step 2\n",
      "merging blocks (30, 31) on step 2\n",
      "merging blocks (32, 33) on step 2\n",
      "merging blocks (34, 35) on step 2\n",
      "merging blocks (36, 37) on step 2\n",
      "merging blocks (38, 39) on step 2\n",
      "merging blocks (40, 41) on step 2\n",
      "merging blocks (42, 43) on step 2\n",
      "merging blocks (44, 45) on step 2\n",
      "merging blocks (46, 47) on step 2\n",
      "merging blocks (48, 49) on step 2\n",
      "merging blocks (0, 1) on step 3\n",
      "merging blocks (2, 3) on step 3\n",
      "merging blocks (4, 5) on step 3\n",
      "merging blocks (6, 7) on step 3\n",
      "merging blocks (8, 9) on step 3\n",
      "merging blocks (10, 11) on step 3\n",
      "merging blocks (12, 13) on step 3\n",
      "merging blocks (14, 15) on step 3\n",
      "merging blocks (16, 17) on step 3\n",
      "merging blocks (18, 19) on step 3\n",
      "merging blocks (20, 21) on step 3\n",
      "merging blocks (22, 23) on step 3\n",
      "merging blocks (0, 1) on step 4\n",
      "merging blocks (2, 3) on step 4\n",
      "merging blocks (4, 5) on step 4\n",
      "merging blocks (6, 7) on step 4\n",
      "merging blocks (8, 9) on step 4\n",
      "merging blocks (10, 11) on step 4\n",
      "merging blocks (0, 1) on step 5\n",
      "merging blocks (2, 3) on step 5\n",
      "merging blocks (4, 5) on step 5\n",
      "merging blocks (0, 1) on step 6\n",
      "merging blocks (2, 3) on step 6\n",
      "merging blocks (0, 1) on step 7\n"
     ]
    }
   ],
   "source": [
    "sort_big_file('big_one.txt')"
   ]
  },
  {
   "cell_type": "code",
   "execution_count": null,
   "metadata": {},
   "outputs": [],
   "source": []
  }
 ],
 "metadata": {
  "kernelspec": {
   "display_name": "Python 3",
   "language": "python",
   "name": "python3"
  },
  "language_info": {
   "codemirror_mode": {
    "name": "ipython",
    "version": 3
   },
   "file_extension": ".py",
   "mimetype": "text/x-python",
   "name": "python",
   "nbconvert_exporter": "python",
   "pygments_lexer": "ipython3",
   "version": "3.7.2"
  }
 },
 "nbformat": 4,
 "nbformat_minor": 2
}
