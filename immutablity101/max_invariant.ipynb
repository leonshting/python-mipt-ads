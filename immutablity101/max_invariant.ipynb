version https://git-lfs.github.com/spec/v1
oid sha256:4b1c1da7998751412d93af153ad29f6cf393665ba6e0fdbc9356ecca893d4b02
size 3339
